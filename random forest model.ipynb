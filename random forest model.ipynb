{
 "cells": [
  {
   "cell_type": "code",
   "execution_count": 33,
   "id": "c9d05a6d-3dfd-4d90-8891-4af4a4dc7e6a",
   "metadata": {},
   "outputs": [
    {
     "name": "stdout",
     "output_type": "stream",
     "text": [
      "   0         1         2         3         4         5         6         7   \\\n",
      "0 NaN  0.364103  0.274237  0.191209 -0.376313 -0.374847 -0.379731  0.169719   \n",
      "1 NaN  0.381685  0.286447  0.195604 -0.379731 -0.376801 -0.376313  0.169719   \n",
      "2 NaN  0.397802  0.299634  0.201954 -0.382662 -0.379731  0.179487  0.170696   \n",
      "3 NaN  0.416361  0.312332  0.209280 -0.385104 -0.382662  0.181929  0.172650   \n",
      "4 NaN  0.435409  0.326496  0.216117 -0.389499 -0.387057  0.186325  0.175092   \n",
      "\n",
      "         8         9   ...        16        17        18        19        20  \\\n",
      "0  0.179976  0.167277  ...  0.247863  0.261538  0.274725  0.236142 -0.401709   \n",
      "1  0.182418  0.166789  ...  0.236142  0.246886  0.263004  0.226374 -0.393407   \n",
      "2  0.187302  0.167766  ...  0.226374  0.236142  0.248840  0.217094 -0.387546   \n",
      "3  0.190232  0.168742  ...  0.217094  0.226862  0.239072  0.208791 -0.380220   \n",
      "4  0.196093  0.172161  ...  0.209768  0.218071  0.227350  0.200977 -0.375336   \n",
      "\n",
      "         21        22        23        24        25  \n",
      "0 -0.399267 -0.376313  0.173626  0.206838  0.198046  \n",
      "1 -0.395360 -0.372894  0.172650  0.203907  0.193651  \n",
      "2 -0.389499 -0.369475  0.171673  0.199023  0.187302  \n",
      "3 -0.384127 -0.367521  0.172650  0.198046  0.184371  \n",
      "4 -0.382173 -0.367033  0.173626  0.196093  0.180464  \n",
      "\n",
      "[5 rows x 26 columns]\n"
     ]
    }
   ],
   "source": [
    "import pandas as pd\n",
    "import numpy as np\n",
    "df = pd.read_csv(r'F:\\ahmed\\new\\data6.csv')\n",
    "reshaped_data = np.array(df).reshape(-1, 5000)\n",
    "new_df = pd.DataFrame(reshaped_data)\n",
    "new_df=new_df.T\n",
    "new_df.to_csv(r'F:\\ahmed\\new\\new6\\data.csv', index=False)\n",
    "print(new_df.head())"
   ]
  },
  {
   "cell_type": "code",
   "execution_count": 43,
   "id": "c728e600-7099-437d-b74d-36168f30ef53",
   "metadata": {},
   "outputs": [
    {
     "name": "stdout",
     "output_type": "stream",
     "text": [
      "Augmented signals saved to F:\\ahmed\\new\\new1\\19.csv\n",
      "50\n"
     ]
    }
   ],
   "source": [
    "import numpy as np\n",
    "import pandas as pd\n",
    "import matplotlib.pyplot as plt\n",
    "\n",
    "def load_data(file_path):\n",
    "    # Load the CSV file\n",
    "    data = pd.read_csv(file_path)\n",
    "    return data\n",
    "\n",
    "def add_gaussian_noise(signal, noise_level=0.01):\n",
    "    noise = np.random.normal(0, noise_level, signal.shape)\n",
    "    return signal + noise\n",
    "\n",
    "def shift_signal(signal, shift):\n",
    "    return np.roll(signal, shift)\n",
    "\n",
    "def scale_signal(signal, scaling_factor):\n",
    "    return signal * scaling_factor\n",
    "\n",
    "def augment_emg_signal(signal, noise_level=0.01, shift_range=100, scale_range=(0.9, 1.1)):\n",
    "    augmented_signals = []\n",
    "\n",
    "    for _ in range(50):\n",
    "        # Adding Gaussian noise\n",
    "        noisy_signal = add_gaussian_noise(signal, noise_level)\n",
    "\n",
    "        # Shifting the signal\n",
    "        shift = np.random.randint(-shift_range, shift_range)\n",
    "        shifted_signal = shift_signal(noisy_signal, shift)\n",
    "\n",
    "        # Scaling the signal\n",
    "        scaling_factor = np.random.uniform(scale_range[0], scale_range[1])\n",
    "        scaled_signal = scale_signal(shifted_signal, scaling_factor)\n",
    "\n",
    "        augmented_signals.append(scaled_signal)\n",
    "\n",
    "    return augmented_signals\n",
    "\n",
    "def save_augmented_signals(original_signal, augmented_signals, output_file):\n",
    "    df = pd.DataFrame({'Original Signal': original_signal})\n",
    "    \n",
    "    for i, aug_signal in enumerate(augmented_signals):\n",
    "        df[f'Augmented Signal {i+1}'] = aug_signal\n",
    "    \n",
    "    df.to_csv(output_file, index=False)\n",
    "for jj in range(10,20):  \n",
    " # Load your EMG signal data\n",
    " file_path = r'F:\\ahmed\\new\\new1\\data.csv'\n",
    " data = load_data(file_path)\n",
    "\n",
    " # Assuming your EMG signal is in the first column\n",
    " emg_signal = data.iloc[:, jj].values\n",
    "\n",
    " # Augment the EMG signal\n",
    " augmented_signals = augment_emg_signal(emg_signal)\n",
    "\n",
    " # Save the original and augmented signals to a new CSV file\n",
    " output_file = f'F:\\\\ahmed\\\\new\\\\new1\\\\{jj}.csv'\n",
    " save_augmented_signals(emg_signal, augmented_signals, output_file)\n",
    "\n",
    "print(f\"Augmented signals saved to {output_file}\")\n",
    "print(len(augmented_signals))"
   ]
  },
  {
   "cell_type": "code",
   "execution_count": 41,
   "id": "cae890a1-446e-4941-b60f-23dede4d0857",
   "metadata": {},
   "outputs": [
    {
     "name": "stdout",
     "output_type": "stream",
     "text": [
      "Augmented signals saved to F:\\ahmed\\new\\new2\\9.csv\n",
      "50\n"
     ]
    }
   ],
   "source": [
    "import numpy as np\n",
    "import pandas as pd\n",
    "import matplotlib.pyplot as plt\n",
    "\n",
    "def load_data(file_path):\n",
    "    # Load the CSV file\n",
    "    data = pd.read_csv(file_path)\n",
    "    return data\n",
    "\n",
    "def add_gaussian_noise(signal, noise_level=0.01):\n",
    "    noise = np.random.normal(0, noise_level, signal.shape)\n",
    "    return signal + noise\n",
    "\n",
    "def shift_signal(signal, shift):\n",
    "    return np.roll(signal, shift)\n",
    "\n",
    "def scale_signal(signal, scaling_factor):\n",
    "    return signal * scaling_factor\n",
    "\n",
    "def augment_emg_signal(signal, noise_level=0.01, shift_range=100, scale_range=(0.9, 1.1)):\n",
    "    augmented_signals = []\n",
    "\n",
    "    for _ in range(50):\n",
    "        # Adding Gaussian noise\n",
    "        noisy_signal = add_gaussian_noise(signal, noise_level)\n",
    "\n",
    "        # Shifting the signal\n",
    "        shift = np.random.randint(-shift_range, shift_range)\n",
    "        shifted_signal = shift_signal(noisy_signal, shift)\n",
    "\n",
    "        # Scaling the signal\n",
    "        scaling_factor = np.random.uniform(scale_range[0], scale_range[1])\n",
    "        scaled_signal = scale_signal(shifted_signal, scaling_factor)\n",
    "\n",
    "        augmented_signals.append(scaled_signal)\n",
    "\n",
    "    return augmented_signals\n",
    "\n",
    "def save_augmented_signals(original_signal, augmented_signals, output_file):\n",
    "    df = pd.DataFrame({'Original Signal': original_signal})\n",
    "    \n",
    "    for i, aug_signal in enumerate(augmented_signals):\n",
    "        df[f'Augmented Signal {i+1}'] = aug_signal\n",
    "    \n",
    "    df.to_csv(output_file, index=False)\n",
    "for jj in range(1,10):  \n",
    " # Load your EMG signal data\n",
    " file_path = r'F:\\ahmed\\new\\new2\\data.csv'\n",
    " data = load_data(file_path)\n",
    "\n",
    " # Assuming your EMG signal is in the first column\n",
    " emg_signal = data.iloc[:, jj].values\n",
    "\n",
    " # Augment the EMG signal\n",
    " augmented_signals = augment_emg_signal(emg_signal)\n",
    "\n",
    " # Save the original and augmented signals to a new CSV file\n",
    " output_file = f'F:\\\\ahmed\\\\new\\\\new2\\\\{jj}.csv'\n",
    " save_augmented_signals(emg_signal, augmented_signals, output_file)\n",
    "\n",
    "print(f\"Augmented signals saved to {output_file}\")\n",
    "print(len(augmented_signals))"
   ]
  },
  {
   "cell_type": "code",
   "execution_count": 51,
   "id": "c54c287a-4a11-4ebc-afd8-85942a904891",
   "metadata": {},
   "outputs": [
    {
     "name": "stdout",
     "output_type": "stream",
     "text": [
      "Augmented signals saved to F:\\ahmed\\new\\new3\\9.csv\n",
      "50\n"
     ]
    }
   ],
   "source": [
    "import numpy as np\n",
    "import pandas as pd\n",
    "import matplotlib.pyplot as plt\n",
    "\n",
    "def load_data(file_path):\n",
    "    # Load the CSV file\n",
    "    data = pd.read_csv(file_path)\n",
    "    return data\n",
    "\n",
    "def add_gaussian_noise(signal, noise_level=0.01):\n",
    "    noise = np.random.normal(0, noise_level, signal.shape)\n",
    "    return signal + noise\n",
    "\n",
    "def shift_signal(signal, shift):\n",
    "    return np.roll(signal, shift)\n",
    "\n",
    "def scale_signal(signal, scaling_factor):\n",
    "    return signal * scaling_factor\n",
    "\n",
    "def augment_emg_signal(signal, noise_level=0.01, shift_range=100, scale_range=(0.9, 1.1)):\n",
    "    augmented_signals = []\n",
    "\n",
    "    for _ in range(50):\n",
    "        # Adding Gaussian noise\n",
    "        noisy_signal = add_gaussian_noise(signal, noise_level)\n",
    "\n",
    "        # Shifting the signal\n",
    "        shift = np.random.randint(-shift_range, shift_range)\n",
    "        shifted_signal = shift_signal(noisy_signal, shift)\n",
    "\n",
    "        # Scaling the signal\n",
    "        scaling_factor = np.random.uniform(scale_range[0], scale_range[1])\n",
    "        scaled_signal = scale_signal(shifted_signal, scaling_factor)\n",
    "\n",
    "        augmented_signals.append(scaled_signal)\n",
    "\n",
    "    return augmented_signals\n",
    "\n",
    "def save_augmented_signals(original_signal, augmented_signals, output_file):\n",
    "    df = pd.DataFrame({'Original Signal': original_signal})\n",
    "    \n",
    "    for i, aug_signal in enumerate(augmented_signals):\n",
    "        df[f'Augmented Signal {i+1}'] = aug_signal\n",
    "    \n",
    "    df.to_csv(output_file, index=False)\n",
    "for jj in range(1,10):  \n",
    " # Load your EMG signal data\n",
    " file_path = r'F:\\ahmed\\new\\new3\\data.csv'\n",
    " data = load_data(file_path)\n",
    "\n",
    " # Assuming your EMG signal is in the first column\n",
    " emg_signal = data.iloc[:, jj].values\n",
    "\n",
    " # Augment the EMG signal\n",
    " augmented_signals = augment_emg_signal(emg_signal)\n",
    "\n",
    " # Save the original and augmented signals to a new CSV file\n",
    " output_file = f'F:\\\\ahmed\\\\new\\\\new3\\\\{jj}.csv'\n",
    " save_augmented_signals(emg_signal, augmented_signals, output_file)\n",
    "\n",
    "print(f\"Augmented signals saved to {output_file}\")\n",
    "print(len(augmented_signals))"
   ]
  },
  {
   "cell_type": "code",
   "execution_count": 59,
   "id": "491561b9-a6ba-4c4e-bebc-918fe9fe62be",
   "metadata": {},
   "outputs": [
    {
     "name": "stdout",
     "output_type": "stream",
     "text": [
      "Augmented signals saved to F:\\ahmed\\new\\new4\\9.csv\n",
      "50\n"
     ]
    }
   ],
   "source": [
    "import numpy as np\n",
    "import pandas as pd\n",
    "import matplotlib.pyplot as plt\n",
    "\n",
    "def load_data(file_path):\n",
    "    # Load the CSV file\n",
    "    data = pd.read_csv(file_path)\n",
    "    return data\n",
    "\n",
    "def add_gaussian_noise(signal, noise_level=0.01):\n",
    "    noise = np.random.normal(0, noise_level, signal.shape)\n",
    "    return signal + noise\n",
    "\n",
    "def shift_signal(signal, shift):\n",
    "    return np.roll(signal, shift)\n",
    "\n",
    "def scale_signal(signal, scaling_factor):\n",
    "    return signal * scaling_factor\n",
    "\n",
    "def augment_emg_signal(signal, noise_level=0.01, shift_range=100, scale_range=(0.9, 1.1)):\n",
    "    augmented_signals = []\n",
    "\n",
    "    for _ in range(50):\n",
    "        # Adding Gaussian noise\n",
    "        noisy_signal = add_gaussian_noise(signal, noise_level)\n",
    "\n",
    "        # Shifting the signal\n",
    "        shift = np.random.randint(-shift_range, shift_range)\n",
    "        shifted_signal = shift_signal(noisy_signal, shift)\n",
    "\n",
    "        # Scaling the signal\n",
    "        scaling_factor = np.random.uniform(scale_range[0], scale_range[1])\n",
    "        scaled_signal = scale_signal(shifted_signal, scaling_factor)\n",
    "\n",
    "        augmented_signals.append(scaled_signal)\n",
    "\n",
    "    return augmented_signals\n",
    "\n",
    "def save_augmented_signals(original_signal, augmented_signals, output_file):\n",
    "    df = pd.DataFrame({'Original Signal': original_signal})\n",
    "    \n",
    "    for i, aug_signal in enumerate(augmented_signals):\n",
    "        df[f'Augmented Signal {i+1}'] = aug_signal\n",
    "    \n",
    "    df.to_csv(output_file, index=False)\n",
    "for jj in range(1,10):  \n",
    " # Load your EMG signal data\n",
    " file_path = r'F:\\ahmed\\new\\new4\\data.csv'\n",
    " data = load_data(file_path)\n",
    "\n",
    " # Assuming your EMG signal is in the first column\n",
    " emg_signal = data.iloc[:, jj].values\n",
    "\n",
    " # Augment the EMG signal\n",
    " augmented_signals = augment_emg_signal(emg_signal)\n",
    "\n",
    " # Save the original and augmented signals to a new CSV file\n",
    " output_file = f'F:\\\\ahmed\\\\new\\\\new4\\\\{jj}.csv'\n",
    " save_augmented_signals(emg_signal, augmented_signals, output_file)\n",
    "\n",
    "print(f\"Augmented signals saved to {output_file}\")\n",
    "print(len(augmented_signals))"
   ]
  },
  {
   "cell_type": "code",
   "execution_count": 3,
   "id": "ae27f27d-3702-428d-b040-e17189b3823f",
   "metadata": {},
   "outputs": [
    {
     "name": "stdout",
     "output_type": "stream",
     "text": [
      "Augmented signals saved to F:\\ahmed\\new\\new6\\9.csv\n",
      "50\n"
     ]
    }
   ],
   "source": [
    "import numpy as np\n",
    "import pandas as pd\n",
    "import matplotlib.pyplot as plt\n",
    "\n",
    "def load_data(file_path):\n",
    "    # Load the CSV file\n",
    "    data = pd.read_csv(file_path)\n",
    "    return data\n",
    "\n",
    "def add_gaussian_noise(signal, noise_level=0.01):\n",
    "    noise = np.random.normal(0, noise_level, signal.shape)\n",
    "    return signal + noise\n",
    "\n",
    "def shift_signal(signal, shift):\n",
    "    return np.roll(signal, shift)\n",
    "\n",
    "def scale_signal(signal, scaling_factor):\n",
    "    return signal * scaling_factor\n",
    "\n",
    "def augment_emg_signal(signal, noise_level=0.01, shift_range=100, scale_range=(0.9, 1.1)):\n",
    "    augmented_signals = []\n",
    "\n",
    "    for _ in range(50):\n",
    "        # Adding Gaussian noise\n",
    "        noisy_signal = add_gaussian_noise(signal, noise_level)\n",
    "\n",
    "        # Shifting the signal\n",
    "        shift = np.random.randint(-shift_range, shift_range)\n",
    "        shifted_signal = shift_signal(noisy_signal, shift)\n",
    "\n",
    "        # Scaling the signal\n",
    "        scaling_factor = np.random.uniform(scale_range[0], scale_range[1])\n",
    "        scaled_signal = scale_signal(shifted_signal, scaling_factor)\n",
    "\n",
    "        augmented_signals.append(scaled_signal)\n",
    "\n",
    "    return augmented_signals\n",
    "\n",
    "def save_augmented_signals(original_signal, augmented_signals, output_file):\n",
    "    df = pd.DataFrame({'Original Signal': original_signal})\n",
    "    \n",
    "    for i, aug_signal in enumerate(augmented_signals):\n",
    "        df[f'Augmented Signal {i+1}'] = aug_signal\n",
    "    \n",
    "    df.to_csv(output_file, index=False)\n",
    "for jj in range(1,10):  \n",
    " # Load your EMG signal data\n",
    " file_path = r'F:\\ahmed\\new\\new6\\data.csv'\n",
    " data = load_data(file_path)\n",
    "\n",
    " # Assuming your EMG signal is in the first column\n",
    " emg_signal = data.iloc[:, jj].values\n",
    "\n",
    " # Augment the EMG signal\n",
    " augmented_signals = augment_emg_signal(emg_signal)\n",
    "\n",
    " # Save the original and augmented signals to a new CSV file\n",
    " output_file = f'F:\\\\ahmed\\\\new\\\\new6\\\\{jj}.csv'\n",
    " save_augmented_signals(emg_signal, augmented_signals, output_file)\n",
    "\n",
    "print(f\"Augmented signals saved to {output_file}\")\n",
    "print(len(augmented_signals))"
   ]
  },
  {
   "cell_type": "code",
   "execution_count": 63,
   "id": "4e2b5511-f325-4532-be7e-a9baa8d91f21",
   "metadata": {},
   "outputs": [
    {
     "name": "stdout",
     "output_type": "stream",
     "text": [
      "Augmented signals saved to F:\\ahmed\\new\\new6\\9.csv\n",
      "50\n"
     ]
    }
   ],
   "source": [
    "import numpy as np\n",
    "import pandas as pd\n",
    "import matplotlib.pyplot as plt\n",
    "\n",
    "def load_data(file_path):\n",
    "    # Load the CSV file\n",
    "    data = pd.read_csv(file_path)\n",
    "    return data\n",
    "\n",
    "def add_gaussian_noise(signal, noise_level=0.01):\n",
    "    noise = np.random.normal(0, noise_level, signal.shape)\n",
    "    return signal + noise\n",
    "\n",
    "def shift_signal(signal, shift):\n",
    "    return np.roll(signal, shift)\n",
    "\n",
    "def scale_signal(signal, scaling_factor):\n",
    "    return signal * scaling_factor\n",
    "\n",
    "def augment_emg_signal(signal, noise_level=0.01, shift_range=100, scale_range=(0.9, 1.1)):\n",
    "    augmented_signals = []\n",
    "\n",
    "    for _ in range(50):\n",
    "        # Adding Gaussian noise\n",
    "        noisy_signal = add_gaussian_noise(signal, noise_level)\n",
    "\n",
    "        # Shifting the signal\n",
    "        shift = np.random.randint(-shift_range, shift_range)\n",
    "        shifted_signal = shift_signal(noisy_signal, shift)\n",
    "\n",
    "        # Scaling the signal\n",
    "        scaling_factor = np.random.uniform(scale_range[0], scale_range[1])\n",
    "        scaled_signal = scale_signal(shifted_signal, scaling_factor)\n",
    "\n",
    "        augmented_signals.append(scaled_signal)\n",
    "\n",
    "    return augmented_signals\n",
    "\n",
    "def save_augmented_signals(original_signal, augmented_signals, output_file):\n",
    "    df = pd.DataFrame({'Original Signal': original_signal})\n",
    "    \n",
    "    for i, aug_signal in enumerate(augmented_signals):\n",
    "        df[f'Augmented Signal {i+1}'] = aug_signal\n",
    "    \n",
    "    df.to_csv(output_file, index=False)\n",
    "for jj in range(1,10):  \n",
    " # Load your EMG signal data\n",
    " file_path = r'F:\\ahmed\\new\\new6.csv'\n",
    " data = load_data(file_path)\n",
    "\n",
    " # Assuming your EMG signal is in the first column\n",
    " emg_signal = data.iloc[:, jj].values\n",
    "\n",
    " # Augment the EMG signal\n",
    " augmented_signals = augment_emg_signal(emg_signal)\n",
    "\n",
    " # Save the original and augmented signals to a new CSV file\n",
    " output_file = f'F:\\\\ahmed\\\\new\\\\new6\\\\{jj}.csv'\n",
    " save_augmented_signals(emg_signal, augmented_signals, output_file)\n",
    "\n",
    "print(f\"Augmented signals saved to {output_file}\")\n",
    "print(len(augmented_signals))"
   ]
  },
  {
   "cell_type": "code",
   "execution_count": 43,
   "id": "bb597690-298d-4341-840e-7cabeca51b6c",
   "metadata": {},
   "outputs": [
    {
     "name": "stdout",
     "output_type": "stream",
     "text": [
      "Combined CSV saved to F:\\ahmed\\new\\1.csv\n"
     ]
    }
   ],
   "source": [
    "import os\n",
    "import pandas as pd\n",
    "\n",
    "def combine_csv_files(directory, output_file):\n",
    "    # List to hold DataFrames\n",
    "    df_list = []\n",
    "    \n",
    "    # Iterate over files in the specified directory\n",
    "    for filename in os.listdir(directory):\n",
    "        # Check if the file is a CSV and ends with '3HZ.csv'\n",
    "        if filename.endswith('.csv'):\n",
    "            file_path = os.path.join(directory, filename)\n",
    "            # Read CSV file and append DataFrame to the list\n",
    "            df = pd.read_csv(file_path)\n",
    "            df = df.T\n",
    "            df_list.append(df)\n",
    "    \n",
    "    # Concatenate all DataFrames in the list\n",
    "    combined_df = pd.concat(df_list, ignore_index=True)\n",
    "    combined_df=combined_df.T \n",
    "    # Write the combined DataFrame to a new CSV file\n",
    "    combined_df.to_csv(output_file, index=False)\n",
    "    print(f'Combined CSV saved to {output_file}')\n",
    "\n",
    "# Example usage\n",
    "directory_path = r'F:\\ahmed\\new\\new1'  # Replace with your directory path\n",
    "output_csv = r'F:\\ahmed\\new\\1.csv'       # Replace with your desired output file name\n",
    "combine_csv_files(directory_path, output_csv)\n"
   ]
  },
  {
   "cell_type": "code",
   "execution_count": 7,
   "id": "7a6bd36d-3e3b-4aef-b833-706675b37493",
   "metadata": {},
   "outputs": [
    {
     "ename": "NameError",
     "evalue": "name 'combined_df' is not defined",
     "output_type": "error",
     "traceback": [
      "\u001b[1;31m---------------------------------------------------------------------------\u001b[0m",
      "\u001b[1;31mNameError\u001b[0m                                 Traceback (most recent call last)",
      "Cell \u001b[1;32mIn[7], line 1\u001b[0m\n\u001b[1;32m----> 1\u001b[0m combined_df\u001b[38;5;241m.\u001b[39mshape\n",
      "\u001b[1;31mNameError\u001b[0m: name 'combined_df' is not defined"
     ]
    }
   ],
   "source": [
    "combined_df.shape"
   ]
  },
  {
   "cell_type": "code",
   "execution_count": 44,
   "id": "811b0107-a7ce-4c05-8669-7857df4c76f7",
   "metadata": {},
   "outputs": [
    {
     "name": "stdout",
     "output_type": "stream",
     "text": [
      "Combined CSV saved to F:\\ahmed\\new\\2.csv\n"
     ]
    }
   ],
   "source": [
    "import os\n",
    "import pandas as pd\n",
    "\n",
    "def combine_csv_files(directory, output_file):\n",
    "    # List to hold DataFrames\n",
    "    df_list = []\n",
    "    \n",
    "    # Iterate over files in the specified directory\n",
    "    for filename in os.listdir(directory):\n",
    "        # Check if the file is a CSV and ends with '3HZ.csv'\n",
    "        if filename.endswith('.csv'):\n",
    "            file_path = os.path.join(directory, filename)\n",
    "            # Read CSV file and append DataFrame to the list\n",
    "            df = pd.read_csv(file_path)\n",
    "            df = df.T\n",
    "            df_list.append(df)\n",
    "    \n",
    "    # Concatenate all DataFrames in the list\n",
    "    combined_df = pd.concat(df_list, ignore_index=True)\n",
    "    combined_df=combined_df.T\n",
    "    # Write the combined DataFrame to a new CSV file\n",
    "    combined_df.to_csv(output_file, index=False)\n",
    "    print(f'Combined CSV saved to {output_file}')\n",
    "\n",
    "# Example usage\n",
    "directory_path = r'F:\\ahmed\\new\\new2'  # Replace with your directory path\n",
    "output_csv = r'F:\\ahmed\\new\\2.csv'       # Replace with your desired output file name\n",
    "combine_csv_files(directory_path, output_csv)\n"
   ]
  },
  {
   "cell_type": "code",
   "execution_count": 45,
   "id": "ed2d9dbf-e09a-431c-b9c6-ef2b866ea778",
   "metadata": {},
   "outputs": [
    {
     "name": "stdout",
     "output_type": "stream",
     "text": [
      "Combined CSV saved to F:\\ahmed\\new\\3.csv\n"
     ]
    }
   ],
   "source": [
    "import os\n",
    "import pandas as pd\n",
    "\n",
    "def combine_csv_files(directory, output_file):\n",
    "    # List to hold DataFrames\n",
    "    df_list = []\n",
    "    \n",
    "    # Iterate over files in the specified directory\n",
    "    for filename in os.listdir(directory):\n",
    "        # Check if the file is a CSV and ends with '3HZ.csv'\n",
    "        if filename.endswith('.csv'):\n",
    "            file_path = os.path.join(directory, filename)\n",
    "            # Read CSV file and append DataFrame to the list\n",
    "            df = pd.read_csv(file_path)\n",
    "            df = df.T\n",
    "            df_list.append(df)\n",
    "    \n",
    "    # Concatenate all DataFrames in the list\n",
    "    combined_df = pd.concat(df_list, ignore_index=True)\n",
    "    combined_df=combined_df.T\n",
    "    # Write the combined DataFrame to a new CSV file\n",
    "    combined_df.to_csv(output_file, index=False)\n",
    "    print(f'Combined CSV saved to {output_file}')\n",
    "\n",
    "# Example usage\n",
    "directory_path = r'F:\\ahmed\\new\\new3'  # Replace with your directory path\n",
    "output_csv = r'F:\\ahmed\\new\\3.csv'       # Replace with your desired output file name\n",
    "combine_csv_files(directory_path, output_csv)\n"
   ]
  },
  {
   "cell_type": "code",
   "execution_count": 47,
   "id": "46135858-9d11-4842-beae-de1460649cd1",
   "metadata": {},
   "outputs": [
    {
     "name": "stdout",
     "output_type": "stream",
     "text": [
      "Combined CSV saved to F:\\ahmed\\new\\4.csv\n"
     ]
    }
   ],
   "source": [
    "import os\n",
    "import pandas as pd\n",
    "\n",
    "def combine_csv_files(directory, output_file):\n",
    "    # List to hold DataFrames\n",
    "    df_list = []\n",
    "    \n",
    "    # Iterate over files in the specified directory\n",
    "    for filename in os.listdir(directory):\n",
    "        # Check if the file is a CSV and ends with '3HZ.csv'\n",
    "        if filename.endswith('.csv'):\n",
    "            file_path = os.path.join(directory, filename)\n",
    "            # Read CSV file and append DataFrame to the list\n",
    "            df = pd.read_csv(file_path)\n",
    "            df = df.T\n",
    "            df_list.append(df)\n",
    "    \n",
    "    # Concatenate all DataFrames in the list\n",
    "    combined_df = pd.concat(df_list, ignore_index=True)\n",
    "    combined_df=combined_df.T\n",
    "    # Write the combined DataFrame to a new CSV file\n",
    "    combined_df.to_csv(output_file, index=False)\n",
    "    print(f'Combined CSV saved to {output_file}')\n",
    "\n",
    "# Example usage\n",
    "directory_path = r'F:\\ahmed\\new\\new4'  # Replace with your directory path\n",
    "output_csv = r'F:\\ahmed\\new\\4.csv'       # Replace with your desired output file name\n",
    "combine_csv_files(directory_path, output_csv)\n"
   ]
  },
  {
   "cell_type": "code",
   "execution_count": 24,
   "id": "1df85341-9fa1-45ee-ba54-94978c0cdcf0",
   "metadata": {},
   "outputs": [
    {
     "name": "stdout",
     "output_type": "stream",
     "text": [
      "Combined CSV saved to F:\\ahmed\\new5.csv\n"
     ]
    }
   ],
   "source": [
    "import os\n",
    "import pandas as pd\n",
    "\n",
    "def combine_csv_files(directory, output_file):\n",
    "    # List to hold DataFrames\n",
    "    df_list = []\n",
    "    \n",
    "    # Iterate over files in the specified directory\n",
    "    for filename in os.listdir(directory):\n",
    "        # Check if the file is a CSV and ends with '3HZ.csv'\n",
    "        if filename.endswith('.csv'):\n",
    "            file_path = os.path.join(directory, filename)\n",
    "            # Read CSV file and append DataFrame to the list\n",
    "            df = pd.read_csv(file_path)\n",
    "            df = df.T\n",
    "            df_list.append(df)\n",
    "    \n",
    "    # Concatenate all DataFrames in the list\n",
    "    combined_df = pd.concat(df_list, ignore_index=True)\n",
    "    combined_df=combined_df.T\n",
    "    # Write the combined DataFrame to a new CSV file\n",
    "    combined_df.to_csv(output_file, index=False)\n",
    "    print(f'Combined CSV saved to {output_file}')\n",
    "\n",
    "# Example usage\n",
    "directory_path = r'F:\\ahmed\\new\\new5'  # Replace with your directory path\n",
    "output_csv = r'F:\\ahmed\\new5.csv'       # Replace with your desired output file name\n",
    "combine_csv_files(directory_path, output_csv)\n"
   ]
  },
  {
   "cell_type": "code",
   "execution_count": 115,
   "id": "35c8cd05-ffd5-41a0-8397-c02652664bc5",
   "metadata": {},
   "outputs": [
    {
     "data": {
      "text/plain": [
       "(1115, 25000)"
      ]
     },
     "execution_count": 115,
     "metadata": {},
     "output_type": "execute_result"
    }
   ],
   "source": [
    "\n",
    "combined_df.shape"
   ]
  },
  {
   "cell_type": "code",
   "execution_count": 49,
   "id": "ea18c5ee-feff-4ad7-9d20-41a1f43d835b",
   "metadata": {},
   "outputs": [
    {
     "name": "stdout",
     "output_type": "stream",
     "text": [
      "Combined CSV saved to F:\\ahmed\\new\\6.csv\n"
     ]
    }
   ],
   "source": [
    "import os\n",
    "import pandas as pd\n",
    "\n",
    "def combine_csv_files(directory, output_file):\n",
    "    # List to hold DataFrames\n",
    "    df_list = []\n",
    "    \n",
    "    # Iterate over files in the specified directory\n",
    "    for filename in os.listdir(directory):\n",
    "        # Check if the file is a CSV and ends with '3HZ.csv'\n",
    "        if filename.endswith('.csv'):\n",
    "            file_path = os.path.join(directory, filename)\n",
    "            # Read CSV file and append DataFrame to the list\n",
    "            df = pd.read_csv(file_path)\n",
    "            df = df.T\n",
    "            df_list.append(df)\n",
    "    \n",
    "    # Concatenate all DataFrames in the list\n",
    "    combined_df = pd.concat(df_list, ignore_index=True)\n",
    "    combined_df=combined_df.T\n",
    "    # Write the combined DataFrame to a new CSV file\n",
    "    combined_df.to_csv(output_file, index=False)\n",
    "    print(f'Combined CSV saved to {output_file}')\n",
    "\n",
    "# Example usage\n",
    "directory_path = r'F:\\ahmed\\new\\new6'  # Replace with your directory path\n",
    "output_csv = r'F:\\ahmed\\new\\6.csv'       # Replace with your desired output file name\n",
    "combine_csv_files(directory_path, output_csv)\n"
   ]
  },
  {
   "cell_type": "code",
   "execution_count": 53,
   "id": "ce6a5dcc-d439-4f11-ae82-f16f52a53cd6",
   "metadata": {},
   "outputs": [
    {
     "name": "stdout",
     "output_type": "stream",
     "text": [
      "Files combined successfully!\n"
     ]
    }
   ],
   "source": [
    "import pandas as pd\n",
    "\n",
    "# List of CSV file paths\n",
    "file_paths = [r'F:\\ahmed\\new\\1.csv',r'F:\\ahmed\\new\\2.csv',r'F:\\ahmed\\new\\3.csv',r'F:\\ahmed\\new\\4.csv',r'F:\\ahmed\\new\\6.csv']\n",
    "\n",
    "# Read each CSV file into a DataFrame\n",
    "dfs = [pd.read_csv(file) for file in file_paths]\n",
    "\n",
    "# Concatenate the DataFrames along the columns (axis=1)\n",
    "combined_df = pd.concat(dfs, axis=1)\n",
    "\n",
    "# Save the resulting DataFrame to a new CSV file\n",
    "combined_df.to_csv(r'F:\\ahmed\\new\\features.csv', index=False)\n",
    "\n",
    "print(\"Files combined successfully!\")\n"
   ]
  },
  {
   "cell_type": "code",
   "execution_count": 54,
   "id": "15a50294-6f80-41c2-8c6a-a6fb648fba32",
   "metadata": {},
   "outputs": [
    {
     "data": {
      "text/plain": [
       "(5000, 2329)"
      ]
     },
     "execution_count": 54,
     "metadata": {},
     "output_type": "execute_result"
    }
   ],
   "source": [
    "combined_df.shape"
   ]
  },
  {
   "cell_type": "code",
   "execution_count": 3,
   "id": "737dce12-e839-4c74-929c-89c4aa095f8b",
   "metadata": {},
   "outputs": [
    {
     "name": "stdout",
     "output_type": "stream",
     "text": [
      "499\n",
      "Average Random Forest model accuracy (in %): 59.51919191919192\n",
      "No positive samples in y_test for class 5; skipping ROC curve.\n"
     ]
    },
    {
     "data": {
      "image/png": "[encoded data removed]",
      "text/plain": [
       "<Figure size 640x480 with 2 Axes>"
      ]
     },
     "metadata": {},
     "output_type": "display_data"
    },
    {
     "data": {
      "image/png": "[encoded data removed]",
      "text/plain": [
       "<Figure size 500x400 with 1 Axes>"
      ]
     },
     "metadata": {},
     "output_type": "display_data"
    }
   ],
   "source": [
    "import pandas as pd\n",
    "from sklearn.model_selection import train_test_split, StratifiedKFold\n",
    "from sklearn.ensemble import RandomForestClassifier\n",
    "from sklearn.metrics import accuracy_score, confusion_matrix, ConfusionMatrixDisplay\n",
    "from sklearn.metrics import roc_curve, auc, RocCurveDisplay\n",
    "import numpy as np\n",
    "import matplotlib.pyplot as plt\n",
    "\n",
    "# Read the CSV file\n",
    "df = pd.read_csv(r'F:\\ahmed\\new\\new1.csv')\n",
    "\n",
    "# Select all columns from 10 to 25 as features\n",
    "X = df.iloc[:, :39]\n",
    "y = df.iloc[:, 39]\n",
    "print(len(y))\n",
    "\n",
    "# Initialize the RandomForestClassifier\n",
    "rf = RandomForestClassifier(n_estimators=47, random_state=1)\n",
    "\n",
    "# Initialize StratifiedKFold\n",
    "skf = StratifiedKFold(n_splits=5, shuffle=True, random_state=1)\n",
    "\n",
    "# Lists to hold accuracy scores and confusion matrices\n",
    "accuracy_scores = []\n",
    "confusion_matrices = []\n",
    "\n",
    "# Perform StratifiedKFold cross-validation\n",
    "for train_index, test_index in skf.split(X, y):\n",
    "    X_train, X_test = X.iloc[train_index], X.iloc[test_index]\n",
    "    y_train, y_test = y.iloc[train_index], y.iloc[test_index]\n",
    "    \n",
    "    # Fit the model on the training data\n",
    "    rf.fit(X_train, y_train)\n",
    "    y_prob = rf.predict_proba(X_test)  \n",
    "    \n",
    "    # Make predictions on the testing set\n",
    "    y_pred = rf.predict(X_test)\n",
    "    \n",
    "    # Calculate the accuracy\n",
    "    accuracy = accuracy_score(y_test, y_pred)\n",
    "    accuracy_scores.append(accuracy)\n",
    "    \n",
    "    # Generate the confusion matrix\n",
    "    cm = confusion_matrix(y_test, y_pred)\n",
    "    confusion_matrices.append(cm)\n",
    "\n",
    "# Print the average accuracy\n",
    "print(\"Average Random Forest model accuracy (in %):\", (sum(accuracy_scores) / len(accuracy_scores)) * 100)\n",
    "\n",
    "# Display the confusion matrix for the last fold\n",
    "ConfusionMatrixDisplay(confusion_matrix=confusion_matrices[-1]).plot()\n",
    "\n",
    "# Calculate ROC curve and AUC for each class and plot on the same graph\n",
    "fpr = dict()\n",
    "tpr = dict()\n",
    "roc_auc = dict()\n",
    "\n",
    "plt.figure(figsize=(5, 4))\n",
    "\n",
    "for i in range(y_prob.shape[1]):  # Iterate over the number of classes in y_prob\n",
    "    if (y_test == i+1).sum() == 0:\n",
    "        print(f\"No positive samples in y_test for class {i+1}; skipping ROC curve.\")\n",
    "        continue\n",
    "    fpr[i], tpr[i], _ = roc_curve(y_test == (i + 1), y_prob[:, i])\n",
    "    roc_auc[i] = auc(fpr[i], tpr[i])\n",
    "    plt.plot(fpr[i], tpr[i], lw=2, label=f'Class {i+1} (area = {roc_auc[i]:.2f})')\n",
    "\n",
    "# Plot the diagonal line (random classifier)\n",
    "plt.plot([0, 1], [0, 1], color='navy', lw=2, linestyle='--')\n",
    "\n",
    "# Customize the plot\n",
    "plt.xlim([0.0, 1.0])\n",
    "plt.ylim([0.0, 1.05])\n",
    "plt.xlabel('False Positive Rate')\n",
    "plt.ylabel('True Positive Rate')\n",
    "plt.title('ROC Curves for Each Class of all data features')\n",
    "plt.legend(loc='lower right')\n",
    "plt.grid()\n",
    "\n",
    "# Show the plot\n",
    "plt.show()\n"
   ]
  },
  {
   "cell_type": "code",
   "execution_count": 24,
   "id": "f123266b-117d-4a98-b766-3152c872898c",
   "metadata": {},
   "outputs": [
    {
     "ename": "IndexError",
     "evalue": "single positional indexer is out-of-bounds",
     "output_type": "error",
     "traceback": [
      "\u001b[1;31m---------------------------------------------------------------------------\u001b[0m",
      "\u001b[1;31mIndexError\u001b[0m                                Traceback (most recent call last)",
      "Cell \u001b[1;32mIn[24], line 2\u001b[0m\n\u001b[0;32m      1\u001b[0m df_new \u001b[38;5;241m=\u001b[39m pd\u001b[38;5;241m.\u001b[39mread_csv(\u001b[38;5;124mr\u001b[39m\u001b[38;5;124m'\u001b[39m\u001b[38;5;124mF:\u001b[39m\u001b[38;5;124m\\\u001b[39m\u001b[38;5;124mahmed\u001b[39m\u001b[38;5;124m\\\u001b[39m\u001b[38;5;124mnew\u001b[39m\u001b[38;5;124m\\\u001b[39m\u001b[38;5;124mnew.csv\u001b[39m\u001b[38;5;124m'\u001b[39m,header\u001b[38;5;241m=\u001b[39m\u001b[38;5;28;01mNone\u001b[39;00m)\n\u001b[1;32m----> 2\u001b[0m X_new \u001b[38;5;241m=\u001b[39m df_new\u001b[38;5;241m.\u001b[39miloc[\u001b[38;5;241m8\u001b[39m, :\u001b[38;5;241m39\u001b[39m]\u001b[38;5;241m.\u001b[39mvalues\u001b[38;5;241m.\u001b[39mreshape(\u001b[38;5;241m1\u001b[39m, \u001b[38;5;241m-\u001b[39m\u001b[38;5;241m1\u001b[39m)  \u001b[38;5;66;03m# Reshape to a 2D array as required by sklearn\u001b[39;00m\n\u001b[0;32m      3\u001b[0m y_pred_new \u001b[38;5;241m=\u001b[39m rf\u001b[38;5;241m.\u001b[39mpredict(X_new)\n\u001b[0;32m      4\u001b[0m \u001b[38;5;66;03m# Output the predicted label\u001b[39;00m\n",
      "File \u001b[1;32m~\\anaconda3\\Lib\\site-packages\\pandas\\core\\indexing.py:1184\u001b[0m, in \u001b[0;36m_LocationIndexer.__getitem__\u001b[1;34m(self, key)\u001b[0m\n\u001b[0;32m   1182\u001b[0m     \u001b[38;5;28;01mif\u001b[39;00m \u001b[38;5;28mself\u001b[39m\u001b[38;5;241m.\u001b[39m_is_scalar_access(key):\n\u001b[0;32m   1183\u001b[0m         \u001b[38;5;28;01mreturn\u001b[39;00m \u001b[38;5;28mself\u001b[39m\u001b[38;5;241m.\u001b[39mobj\u001b[38;5;241m.\u001b[39m_get_value(\u001b[38;5;241m*\u001b[39mkey, takeable\u001b[38;5;241m=\u001b[39m\u001b[38;5;28mself\u001b[39m\u001b[38;5;241m.\u001b[39m_takeable)\n\u001b[1;32m-> 1184\u001b[0m     \u001b[38;5;28;01mreturn\u001b[39;00m \u001b[38;5;28mself\u001b[39m\u001b[38;5;241m.\u001b[39m_getitem_tuple(key)\n\u001b[0;32m   1185\u001b[0m \u001b[38;5;28;01melse\u001b[39;00m:\n\u001b[0;32m   1186\u001b[0m     \u001b[38;5;66;03m# we by definition only have the 0th axis\u001b[39;00m\n\u001b[0;32m   1187\u001b[0m     axis \u001b[38;5;241m=\u001b[39m \u001b[38;5;28mself\u001b[39m\u001b[38;5;241m.\u001b[39maxis \u001b[38;5;129;01mor\u001b[39;00m \u001b[38;5;241m0\u001b[39m\n",
      "File \u001b[1;32m~\\anaconda3\\Lib\\site-packages\\pandas\\core\\indexing.py:1690\u001b[0m, in \u001b[0;36m_iLocIndexer._getitem_tuple\u001b[1;34m(self, tup)\u001b[0m\n\u001b[0;32m   1689\u001b[0m \u001b[38;5;28;01mdef\u001b[39;00m \u001b[38;5;21m_getitem_tuple\u001b[39m(\u001b[38;5;28mself\u001b[39m, tup: \u001b[38;5;28mtuple\u001b[39m):\n\u001b[1;32m-> 1690\u001b[0m     tup \u001b[38;5;241m=\u001b[39m \u001b[38;5;28mself\u001b[39m\u001b[38;5;241m.\u001b[39m_validate_tuple_indexer(tup)\n\u001b[0;32m   1691\u001b[0m     \u001b[38;5;28;01mwith\u001b[39;00m suppress(IndexingError):\n\u001b[0;32m   1692\u001b[0m         \u001b[38;5;28;01mreturn\u001b[39;00m \u001b[38;5;28mself\u001b[39m\u001b[38;5;241m.\u001b[39m_getitem_lowerdim(tup)\n",
      "File \u001b[1;32m~\\anaconda3\\Lib\\site-packages\\pandas\\core\\indexing.py:966\u001b[0m, in \u001b[0;36m_LocationIndexer._validate_tuple_indexer\u001b[1;34m(self, key)\u001b[0m\n\u001b[0;32m    964\u001b[0m \u001b[38;5;28;01mfor\u001b[39;00m i, k \u001b[38;5;129;01min\u001b[39;00m \u001b[38;5;28menumerate\u001b[39m(key):\n\u001b[0;32m    965\u001b[0m     \u001b[38;5;28;01mtry\u001b[39;00m:\n\u001b[1;32m--> 966\u001b[0m         \u001b[38;5;28mself\u001b[39m\u001b[38;5;241m.\u001b[39m_validate_key(k, i)\n\u001b[0;32m    967\u001b[0m     \u001b[38;5;28;01mexcept\u001b[39;00m \u001b[38;5;167;01mValueError\u001b[39;00m \u001b[38;5;28;01mas\u001b[39;00m err:\n\u001b[0;32m    968\u001b[0m         \u001b[38;5;28;01mraise\u001b[39;00m \u001b[38;5;167;01mValueError\u001b[39;00m(\n\u001b[0;32m    969\u001b[0m             \u001b[38;5;124m\"\u001b[39m\u001b[38;5;124mLocation based indexing can only have \u001b[39m\u001b[38;5;124m\"\u001b[39m\n\u001b[0;32m    970\u001b[0m             \u001b[38;5;124mf\u001b[39m\u001b[38;5;124m\"\u001b[39m\u001b[38;5;124m[\u001b[39m\u001b[38;5;132;01m{\u001b[39;00m\u001b[38;5;28mself\u001b[39m\u001b[38;5;241m.\u001b[39m_valid_types\u001b[38;5;132;01m}\u001b[39;00m\u001b[38;5;124m] types\u001b[39m\u001b[38;5;124m\"\u001b[39m\n\u001b[0;32m    971\u001b[0m         ) \u001b[38;5;28;01mfrom\u001b[39;00m \u001b[38;5;21;01merr\u001b[39;00m\n",
      "File \u001b[1;32m~\\anaconda3\\Lib\\site-packages\\pandas\\core\\indexing.py:1592\u001b[0m, in \u001b[0;36m_iLocIndexer._validate_key\u001b[1;34m(self, key, axis)\u001b[0m\n\u001b[0;32m   1590\u001b[0m     \u001b[38;5;28;01mreturn\u001b[39;00m\n\u001b[0;32m   1591\u001b[0m \u001b[38;5;28;01melif\u001b[39;00m is_integer(key):\n\u001b[1;32m-> 1592\u001b[0m     \u001b[38;5;28mself\u001b[39m\u001b[38;5;241m.\u001b[39m_validate_integer(key, axis)\n\u001b[0;32m   1593\u001b[0m \u001b[38;5;28;01melif\u001b[39;00m \u001b[38;5;28misinstance\u001b[39m(key, \u001b[38;5;28mtuple\u001b[39m):\n\u001b[0;32m   1594\u001b[0m     \u001b[38;5;66;03m# a tuple should already have been caught by this point\u001b[39;00m\n\u001b[0;32m   1595\u001b[0m     \u001b[38;5;66;03m# so don't treat a tuple as a valid indexer\u001b[39;00m\n\u001b[0;32m   1596\u001b[0m     \u001b[38;5;28;01mraise\u001b[39;00m IndexingError(\u001b[38;5;124m\"\u001b[39m\u001b[38;5;124mToo many indexers\u001b[39m\u001b[38;5;124m\"\u001b[39m)\n",
      "File \u001b[1;32m~\\anaconda3\\Lib\\site-packages\\pandas\\core\\indexing.py:1685\u001b[0m, in \u001b[0;36m_iLocIndexer._validate_integer\u001b[1;34m(self, key, axis)\u001b[0m\n\u001b[0;32m   1683\u001b[0m len_axis \u001b[38;5;241m=\u001b[39m \u001b[38;5;28mlen\u001b[39m(\u001b[38;5;28mself\u001b[39m\u001b[38;5;241m.\u001b[39mobj\u001b[38;5;241m.\u001b[39m_get_axis(axis))\n\u001b[0;32m   1684\u001b[0m \u001b[38;5;28;01mif\u001b[39;00m key \u001b[38;5;241m>\u001b[39m\u001b[38;5;241m=\u001b[39m len_axis \u001b[38;5;129;01mor\u001b[39;00m key \u001b[38;5;241m<\u001b[39m \u001b[38;5;241m-\u001b[39mlen_axis:\n\u001b[1;32m-> 1685\u001b[0m     \u001b[38;5;28;01mraise\u001b[39;00m \u001b[38;5;167;01mIndexError\u001b[39;00m(\u001b[38;5;124m\"\u001b[39m\u001b[38;5;124msingle positional indexer is out-of-bounds\u001b[39m\u001b[38;5;124m\"\u001b[39m)\n",
      "\u001b[1;31mIndexError\u001b[0m: single positional indexer is out-of-bounds"
     ]
    }
   ],
   "source": [
    "df_new = pd.read_csv(r'F:\\ahmed\\new\\new.csv',header=None)\n",
    "X_new = df_new.iloc[8, :39].values.reshape(1, -1)  # Reshape to a 2D array as required by sklearn\n",
    "y_pred_new = rf.predict(X_new)\n",
    "# Output the predicted label\n",
    "print(\"Predicted label for the first row in 'new.csv':\", y_pred_new)\n"
   ]
  },
  {
   "cell_type": "code",
   "execution_count": 5,
   "id": "267a5538-1452-4b14-8c9a-7451e651086a",
   "metadata": {},
   "outputs": [
    {
     "name": "stdout",
     "output_type": "stream",
     "text": [
      "Predicted label for the first row in 'new.csv': [4]\n",
      "Predicted label for the first row in 'new.csv': [4]\n",
      "Predicted label for the first row in 'new.csv': [4]\n",
      "Predicted label for the first row in 'new.csv': [1]\n",
      "Predicted label for the first row in 'new.csv': [6]\n",
      "Predicted label for the first row in 'new.csv': [6]\n",
      "Predicted label for the first row in 'new.csv': [6]\n",
      "Predicted label for the first row in 'new.csv': [6]\n",
      "Predicted label for the first row in 'new.csv': [2]\n",
      "Predicted label for the first row in 'new.csv': [2]\n",
      "Predicted label for the first row in 'new.csv': [4]\n",
      "Predicted label for the first row in 'new.csv': [4]\n",
      "Predicted label for the first row in 'new.csv': [1]\n",
      "Predicted label for the first row in 'new.csv': [6]\n",
      "Predicted label for the first row in 'new.csv': [3]\n",
      "Predicted label for the first row in 'new.csv': [4]\n",
      "Predicted label for the first row in 'new.csv': [3]\n",
      "Predicted label for the first row in 'new.csv': [4]\n",
      "Predicted label for the first row in 'new.csv': [6]\n",
      "Predicted label for the first row in 'new.csv': [2]\n",
      "Predicted label for the first row in 'new.csv': [4]\n",
      "Predicted label for the first row in 'new.csv': [1]\n",
      "Predicted label for the first row in 'new.csv': [2]\n",
      "Predicted label for the first row in 'new.csv': [6]\n",
      "Predicted label for the first row in 'new.csv': [6]\n",
      "Predicted label for the first row in 'new.csv': [6]\n",
      "Predicted label for the first row in 'new.csv': [6]\n",
      "Predicted label for the first row in 'new.csv': [6]\n",
      "Predicted label for the first row in 'new.csv': [6]\n",
      "Predicted label for the first row in 'new.csv': [6]\n",
      "Predicted label for the first row in 'new.csv': [6]\n"
     ]
    },
    {
     "ename": "KeyboardInterrupt",
     "evalue": "",
     "output_type": "error",
     "traceback": [
      "\u001b[1;31m---------------------------------------------------------------------------\u001b[0m",
      "\u001b[1;31mKeyboardInterrupt\u001b[0m                         Traceback (most recent call last)",
      "Cell \u001b[1;32mIn[5], line 22\u001b[0m\n\u001b[0;32m     20\u001b[0m  \u001b[38;5;66;03m# Output the predicted label\u001b[39;00m\n\u001b[0;32m     21\u001b[0m \u001b[38;5;28mprint\u001b[39m(\u001b[38;5;124m\"\u001b[39m\u001b[38;5;124mPredicted label for the first row in \u001b[39m\u001b[38;5;124m'\u001b[39m\u001b[38;5;124mnew.csv\u001b[39m\u001b[38;5;124m'\u001b[39m\u001b[38;5;124m:\u001b[39m\u001b[38;5;124m\"\u001b[39m, y_pred_new)\n\u001b[1;32m---> 22\u001b[0m time\u001b[38;5;241m.\u001b[39msleep(\u001b[38;5;241m3\u001b[39m)\n",
      "\u001b[1;31mKeyboardInterrupt\u001b[0m: "
     ]
    }
   ],
   "source": [
    "import pandas as pd\n",
    "from jupyterplot import ProgressPlot\n",
    "import os\n",
    "import warnings\n",
    "# Suppress all warnings\n",
    "warnings.filterwarnings(\"ignore\")\n",
    "import time  # Import the time module\n",
    "\n",
    "# Define the path to your CSV file\n",
    "file_path = 'F:\\\\ahmed\\\\new\\\\new.csv'\n",
    "x = []\n",
    "\n",
    "# Assuming you have a trained Random Forest model named `rf`\n",
    "# rf = ...\n",
    "\n",
    "for i in range(50000):\n",
    "                df_new = pd.read_csv(r'F:\\ahmed\\new\\new.csv',header=None)\n",
    "                X_new = df_new.iloc[0, :39].values.reshape(1, -1)  # Reshape to a 2D array as required by sklearn\n",
    "                y_pred_new = rf.predict(X_new)\n",
    "                 # Output the predicted label\n",
    "                print(\"Predicted label for the first row in 'new.csv':\", y_pred_new)\n",
    "                time.sleep(3) "
   ]
  },
  {
   "cell_type": "code",
   "execution_count": 13,
   "id": "faec1b12-eb9c-458c-8226-5de0eacca087",
   "metadata": {},
   "outputs": [
    {
     "name": "stderr",
     "output_type": "stream",
     "text": [
      "C:\\Users\\ahmed\\AppData\\Local\\Temp\\ipykernel_18376\\3405623783.py:28: UserWarning: frames=None which we can infer the length of, did not pass an explicit *save_count* and passed cache_frame_data=True.  To avoid a possibly unbounded cache, frame data caching has been disabled. To suppress this warning either pass `cache_frame_data=False` or `save_count=MAX_FRAMES`.\n",
      "  ani = animation.FuncAnimation(fig, update, init_func=init, blit=True, interval=100)\n"
     ]
    },
    {
     "data": {
      "image/png": "[encoded data removed]",
      "text/plain": [
       "<Figure size 1000x600 with 1 Axes>"
      ]
     },
     "metadata": {},
     "output_type": "display_data"
    }
   ],
   "source": [
    "import pandas as pd\n",
    "import time\n",
    "import matplotlib.pyplot as plt\n",
    "import matplotlib.animation as animation\n",
    "\n",
    "# Set up the figure, the axis, and the plot element\n",
    "fig, ax = plt.subplots(figsize=(10, 6))\n",
    "line, = ax.plot([], [], lw=2)\n",
    "\n",
    "# Set up plot parameters\n",
    "ax.set_xlim(0, 1000)  # Adjust the x-axis limit as needed\n",
    "ax.set_ylim(0, 5000)  # Adjust the y-axis limit as needed\n",
    "ax.set_title('Real-Time Plot of CSV Data')\n",
    "ax.grid(True)\n",
    "\n",
    "def init():\n",
    "    line.set_data([], [])\n",
    "    return line,\n",
    "\n",
    "def update(frame):\n",
    "    df = pd.read_csv('F:\\\\end11.csv', header=None).values\n",
    "    x = list(range(len(df)))  # X-axis data\n",
    "    y = df.values# Adjust to select the column you want to plot\n",
    "    \n",
    "    line.set_data(x, y)\n",
    "    return line,\n",
    "\n",
    "ani = animation.FuncAnimation(fig, update, init_func=init, blit=True, interval=100)\n",
    "plt.show()\n",
    "time.sleep(0.1)"
   ]
  },
  {
   "cell_type": "code",
   "execution_count": null,
   "id": "02277579-6729-4a38-b5cf-d7df4f1f4956",
   "metadata": {},
   "outputs": [],
   "source": []
  }
 ],
 "metadata": {
  "kernelspec": {
   "display_name": "Python 3 (ipykernel)",
   "language": "python",
   "name": "python3"
  },
  "language_info": {
   "codemirror_mode": {
    "name": "ipython",
    "version": 3
   },
   "file_extension": ".py",
   "mimetype": "text/x-python",
   "name": "python",
   "nbconvert_exporter": "python",
   "pygments_lexer": "ipython3",
   "version": "3.12.4"
  }
 },
 "nbformat": 4,
 "nbformat_minor": 5
}
